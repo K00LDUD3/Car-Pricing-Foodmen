{
 "cells": [
  {
   "cell_type": "code",
   "execution_count": 32,
   "metadata": {},
   "outputs": [],
   "source": [
    "import pandas as p\n",
    "import numpy as np\n",
    "import matplotlib.pyplot as plt\n",
    "import seaborn as s\n",
    "import pickle\n",
    "\n",
    "import warnings\n",
    "warnings.filterwarnings('ignore')\n",
    "\n",
    "import datetime as dt\n",
    "\n",
    "from sklearn.ensemble import RandomForestRegressor\n",
    "from sklearn.model_selection import RandomizedSearchCV\n",
    "from sklearn.ensemble import ExtraTreesRegressor\n",
    "from sklearn.model_selection import train_test_split\n",
    "from sklearn import metrics\n",
    "from sklearn.metrics import r2_score\n",
    "from sklearn.metrics import mean_squared_log_error\n",
    "from sklearn.preprocessing import OrdinalEncoder\n",
    "from scipy.stats import shapiro\n",
    "\n",
    "plt.rcParams['figure.figsize'] = [15,8]"
   ]
  },
  {
   "cell_type": "code",
   "execution_count": 33,
   "metadata": {},
   "outputs": [],
   "source": [
    "df = p.read_csv('train.csv')"
   ]
  },
  {
   "cell_type": "code",
   "execution_count": 34,
   "metadata": {},
   "outputs": [
    {
     "data": {
      "text/html": [
       "<div>\n",
       "<style scoped>\n",
       "    .dataframe tbody tr th:only-of-type {\n",
       "        vertical-align: middle;\n",
       "    }\n",
       "\n",
       "    .dataframe tbody tr th {\n",
       "        vertical-align: top;\n",
       "    }\n",
       "\n",
       "    .dataframe thead th {\n",
       "        text-align: right;\n",
       "    }\n",
       "</style>\n",
       "<table border=\"1\" class=\"dataframe\">\n",
       "  <thead>\n",
       "    <tr style=\"text-align: right;\">\n",
       "      <th></th>\n",
       "      <th>Price</th>\n",
       "      <th>Levy</th>\n",
       "      <th>Manufacturer</th>\n",
       "      <th>Model</th>\n",
       "      <th>Prod. year</th>\n",
       "      <th>Category</th>\n",
       "      <th>Leather interior</th>\n",
       "      <th>Fuel type</th>\n",
       "      <th>Engine volume</th>\n",
       "      <th>Mileage</th>\n",
       "      <th>Cylinders</th>\n",
       "      <th>Gear box type</th>\n",
       "      <th>Drive wheels</th>\n",
       "      <th>Doors</th>\n",
       "      <th>Wheel</th>\n",
       "      <th>Color</th>\n",
       "      <th>Airbags</th>\n",
       "    </tr>\n",
       "  </thead>\n",
       "  <tbody>\n",
       "    <tr>\n",
       "      <th>0</th>\n",
       "      <td>13328</td>\n",
       "      <td>1399</td>\n",
       "      <td>LEXUS</td>\n",
       "      <td>RX 450</td>\n",
       "      <td>2010</td>\n",
       "      <td>Jeep</td>\n",
       "      <td>Yes</td>\n",
       "      <td>Hybrid</td>\n",
       "      <td>3.5</td>\n",
       "      <td>186005 km</td>\n",
       "      <td>6.0</td>\n",
       "      <td>Automatic</td>\n",
       "      <td>4x4</td>\n",
       "      <td>04-May</td>\n",
       "      <td>Left wheel</td>\n",
       "      <td>Silver</td>\n",
       "      <td>12</td>\n",
       "    </tr>\n",
       "    <tr>\n",
       "      <th>1</th>\n",
       "      <td>16621</td>\n",
       "      <td>1018</td>\n",
       "      <td>CHEVROLET</td>\n",
       "      <td>Equinox</td>\n",
       "      <td>2011</td>\n",
       "      <td>Jeep</td>\n",
       "      <td>No</td>\n",
       "      <td>Petrol</td>\n",
       "      <td>3</td>\n",
       "      <td>192000 km</td>\n",
       "      <td>6.0</td>\n",
       "      <td>Tiptronic</td>\n",
       "      <td>4x4</td>\n",
       "      <td>04-May</td>\n",
       "      <td>Left wheel</td>\n",
       "      <td>Black</td>\n",
       "      <td>8</td>\n",
       "    </tr>\n",
       "    <tr>\n",
       "      <th>2</th>\n",
       "      <td>8467</td>\n",
       "      <td>-</td>\n",
       "      <td>HONDA</td>\n",
       "      <td>FIT</td>\n",
       "      <td>2006</td>\n",
       "      <td>Hatchback</td>\n",
       "      <td>No</td>\n",
       "      <td>Petrol</td>\n",
       "      <td>1.3</td>\n",
       "      <td>200000 km</td>\n",
       "      <td>4.0</td>\n",
       "      <td>Variator</td>\n",
       "      <td>Front</td>\n",
       "      <td>04-May</td>\n",
       "      <td>Right-hand drive</td>\n",
       "      <td>Black</td>\n",
       "      <td>2</td>\n",
       "    </tr>\n",
       "    <tr>\n",
       "      <th>3</th>\n",
       "      <td>3607</td>\n",
       "      <td>862</td>\n",
       "      <td>FORD</td>\n",
       "      <td>Escape</td>\n",
       "      <td>2011</td>\n",
       "      <td>Jeep</td>\n",
       "      <td>Yes</td>\n",
       "      <td>Hybrid</td>\n",
       "      <td>2.5</td>\n",
       "      <td>168966 km</td>\n",
       "      <td>4.0</td>\n",
       "      <td>Automatic</td>\n",
       "      <td>4x4</td>\n",
       "      <td>04-May</td>\n",
       "      <td>Left wheel</td>\n",
       "      <td>White</td>\n",
       "      <td>0</td>\n",
       "    </tr>\n",
       "    <tr>\n",
       "      <th>4</th>\n",
       "      <td>11726</td>\n",
       "      <td>446</td>\n",
       "      <td>HONDA</td>\n",
       "      <td>FIT</td>\n",
       "      <td>2014</td>\n",
       "      <td>Hatchback</td>\n",
       "      <td>Yes</td>\n",
       "      <td>Petrol</td>\n",
       "      <td>1.3</td>\n",
       "      <td>91901 km</td>\n",
       "      <td>4.0</td>\n",
       "      <td>Automatic</td>\n",
       "      <td>Front</td>\n",
       "      <td>04-May</td>\n",
       "      <td>Left wheel</td>\n",
       "      <td>Silver</td>\n",
       "      <td>4</td>\n",
       "    </tr>\n",
       "  </tbody>\n",
       "</table>\n",
       "</div>"
      ],
      "text/plain": [
       "   Price  Levy Manufacturer    Model  Prod. year   Category Leather interior  \\\n",
       "0  13328  1399        LEXUS   RX 450        2010       Jeep              Yes   \n",
       "1  16621  1018    CHEVROLET  Equinox        2011       Jeep               No   \n",
       "2   8467     -        HONDA      FIT        2006  Hatchback               No   \n",
       "3   3607   862         FORD   Escape        2011       Jeep              Yes   \n",
       "4  11726   446        HONDA      FIT        2014  Hatchback              Yes   \n",
       "\n",
       "  Fuel type Engine volume    Mileage  Cylinders Gear box type Drive wheels  \\\n",
       "0    Hybrid           3.5  186005 km        6.0     Automatic          4x4   \n",
       "1    Petrol             3  192000 km        6.0     Tiptronic          4x4   \n",
       "2    Petrol           1.3  200000 km        4.0      Variator        Front   \n",
       "3    Hybrid           2.5  168966 km        4.0     Automatic          4x4   \n",
       "4    Petrol           1.3   91901 km        4.0     Automatic        Front   \n",
       "\n",
       "    Doors             Wheel   Color  Airbags  \n",
       "0  04-May        Left wheel  Silver       12  \n",
       "1  04-May        Left wheel   Black        8  \n",
       "2  04-May  Right-hand drive   Black        2  \n",
       "3  04-May        Left wheel   White        0  \n",
       "4  04-May        Left wheel  Silver        4  "
      ]
     },
     "execution_count": 34,
     "metadata": {},
     "output_type": "execute_result"
    }
   ],
   "source": [
    "\n",
    "df = df.drop('ID', axis=1)\n",
    "df.head()"
   ]
  },
  {
   "cell_type": "code",
   "execution_count": 35,
   "metadata": {},
   "outputs": [
    {
     "data": {
      "text/plain": [
       "0        186005 km\n",
       "1        192000 km\n",
       "2        200000 km\n",
       "3        168966 km\n",
       "4         91901 km\n",
       "           ...    \n",
       "19232    300000 km\n",
       "19233    161600 km\n",
       "19234    116365 km\n",
       "19235     51258 km\n",
       "19236    186923 km\n",
       "Name: Mileage, Length: 19237, dtype: object"
      ]
     },
     "execution_count": 35,
     "metadata": {},
     "output_type": "execute_result"
    }
   ],
   "source": [
    "df.Mileage"
   ]
  },
  {
   "cell_type": "code",
   "execution_count": null,
   "metadata": {},
   "outputs": [],
   "source": []
  },
  {
   "cell_type": "code",
   "execution_count": 36,
   "metadata": {},
   "outputs": [
    {
     "name": "stdout",
     "output_type": "stream",
     "text": [
      "<class 'pandas.core.frame.DataFrame'>\n",
      "RangeIndex: 19237 entries, 0 to 19236\n",
      "Data columns (total 17 columns):\n",
      " #   Column            Non-Null Count  Dtype  \n",
      "---  ------            --------------  -----  \n",
      " 0   Price             19237 non-null  int64  \n",
      " 1   Levy              19237 non-null  float64\n",
      " 2   Manufacturer      19237 non-null  object \n",
      " 3   Model             19237 non-null  object \n",
      " 4   Prod. year        19237 non-null  int64  \n",
      " 5   Category          19237 non-null  object \n",
      " 6   Leather interior  19237 non-null  object \n",
      " 7   Fuel type         19237 non-null  object \n",
      " 8   Engine volume     19237 non-null  object \n",
      " 9   Mileage           19237 non-null  float64\n",
      " 10  Cylinders         19237 non-null  float64\n",
      " 11  Gear box type     19237 non-null  object \n",
      " 12  Drive wheels      19237 non-null  object \n",
      " 13  Doors             19237 non-null  object \n",
      " 14  Wheel             19237 non-null  object \n",
      " 15  Color             19237 non-null  object \n",
      " 16  Airbags           19237 non-null  int64  \n",
      "dtypes: float64(3), int64(3), object(11)\n",
      "memory usage: 2.5+ MB\n"
     ]
    }
   ],
   "source": [
    "##MILEAGE\n",
    "df.Mileage = p.to_numeric(df.Mileage.apply(lambda x: float(str(x).split(' ')[0])))\n",
    "\n",
    "##LEVY\n",
    "#Replacing hyphens with 0s\n",
    "def replaceHyphen(n):\n",
    "    if n == '-':\n",
    "        return 0.0\n",
    "    return float(n)\n",
    "df.Levy = p.to_numeric(df.Levy.apply(lambda x: replaceHyphen(x)))\n",
    "df.info()"
   ]
  },
  {
   "cell_type": "code",
   "execution_count": 37,
   "metadata": {},
   "outputs": [],
   "source": [
    "#Getting raw number \n",
    "def convToVol(n):\n",
    "    n = str(n).strip()\n",
    "    tokens = n.split()\n",
    "    return float(tokens[0])\n",
    "#Splitting Turbo and non turbo engine types\n",
    "def TurboClass(n):\n",
    "    n = str(n).strip()\n",
    "    tokens = n.split()\n",
    "    if len(tokens) == 1:\n",
    "        return 0\n",
    "    else:\n",
    "        return 1\n",
    "\n",
    "df['Turbo'] = df['Engine volume'].apply(lambda x: TurboClass(x))\n",
    "df['Engine volume'] = df['Engine volume'].apply(lambda x: convToVol(x))"
   ]
  },
  {
   "cell_type": "code",
   "execution_count": 38,
   "metadata": {},
   "outputs": [
    {
     "data": {
      "text/plain": [
       "<AxesSubplot:>"
      ]
     },
     "execution_count": 38,
     "metadata": {},
     "output_type": "execute_result"
    },
    {
     "data": {
      "image/png": "[encoded data removed]",
      "text/plain": [
       "<Figure size 1080x576 with 1 Axes>"
      ]
     },
     "metadata": {
      "needs_background": "light"
     },
     "output_type": "display_data"
    }
   ],
   "source": [
    "def FindOutliersLim(column_name, df):\n",
    "    q1 = np.percentile(df[column_name], 25) #1st quartile - 25%\n",
    "    q3 = np.percentile(df[column_name], 75) #3rd quartile - 75%\n",
    "    IQR = q3 - q1 #Inter Quartile Range\n",
    "\n",
    "    liniency_factor = 1.3\n",
    "    lim = IQR * liniency_factor\n",
    "    lower_lim, upper_lim = q1 - lim, q3 + lim\n",
    "    return lower_lim, upper_lim\n",
    "def RemoveOutlier(df, column_name, upper_lim, lower_lim):\n",
    "    outlier_list = [x for x in df[column_name] if x < upper_lim] #List of Outliers that exist\n",
    "    outlier_elimmed = [x for x in df[column_name] if x >= lower_lim and x <= upper_lim]\n",
    "    final_col = np.where(df[column_name]>upper_lim,upper_lim,np.where(df[column_name]<lower_lim,lower_lim,df[column_name]))\n",
    "    return final_col\n",
    "outliers = ['Levy', 'Engine volume', 'Mileage']\n",
    "for i in outliers:\n",
    "    lower_lim, upper_lim = FindOutliersLim(column_name=i, df=df)\n",
    "    df[i] = RemoveOutlier(df, i, upper_lim=upper_lim, lower_lim=lower_lim)\n",
    "df[outliers].boxplot()"
   ]
  },
  {
   "cell_type": "code",
   "execution_count": 39,
   "metadata": {},
   "outputs": [
    {
     "data": {
      "text/plain": [
       "count    19237.000000\n",
       "mean         2.226103\n",
       "std          0.654554\n",
       "min          0.890000\n",
       "25%          1.800000\n",
       "50%          2.000000\n",
       "75%          2.500000\n",
       "max          3.410000\n",
       "Name: Engine volume, dtype: float64"
      ]
     },
     "execution_count": 39,
     "metadata": {},
     "output_type": "execute_result"
    }
   ],
   "source": [
    "df['Engine volume'].describe()"
   ]
  },
  {
   "cell_type": "code",
   "execution_count": 40,
   "metadata": {},
   "outputs": [],
   "source": [
    "mileage_intervals = [i for i in range(0,10)]\n",
    "df['Mileage_BIN'] = p.cut(df['Mileage'], len(mileage_intervals), labels=mileage_intervals)\n",
    "df['Mileage_BIN'] = df['Mileage_BIN'].astype(float)\n",
    "engineVol_intervals = [i for i in range(0,5)]\n",
    "df['EngineVolume_BIN'] = p.cut(df['Engine volume'], len(engineVol_intervals), labels=engineVol_intervals)\n",
    "df['EngineVolume_BIN'] = df['EngineVolume_BIN'].astype(float)"
   ]
  },
  {
   "cell_type": "code",
   "execution_count": 44,
   "metadata": {},
   "outputs": [
    {
     "data": {
      "text/plain": [
       "Index(['Manufacturer', 'Model', 'Category', 'Leather interior', 'Fuel type',\n",
       "       'Gear box type', 'Drive wheels', 'Doors', 'Wheel', 'Color'],\n",
       "      dtype='object')"
      ]
     },
     "execution_count": 44,
     "metadata": {},
     "output_type": "execute_result"
    }
   ],
   "source": [
    "categ_data = df.select_dtypes(include='object')\n",
    "categ_data.columns"
   ]
  },
  {
   "cell_type": "code",
   "execution_count": null,
   "metadata": {},
   "outputs": [],
   "source": [
    "numeric_data = df.select_dtypes(include=np.number)\n",
    "categ_data = df.select_dtypes(include='object')\n",
    "encode = OrdinalEncoder()\n",
    "categ_col = categ_data.columns.tolist()\n",
    "encode.fit(categ_data[categ_col])\n",
    "\n",
    "categ_ordinal_encoded = encode.transform(categ_data[categ_col])\n",
    "categ_ordinal_encoded = p.DataFrame(categ_ordinal_encoded, columns=categ_col)\n",
    "categ_data.reset_index(inplace=True)\n",
    "categ_ordinal_encoded.head()\n",
    "\n",
    "numeric_data.reset_index(inplace=True)\n",
    "categ_ordinal_encoded.reset_index(inplace=True)\n",
    "categ_ordinal_encoded.drop('index', axis=1, inplace=True)\n",
    "final_data = p.concat([numeric_data, categ_ordinal_encoded], axis=1)"
   ]
  },
  {
   "cell_type": "markdown",
   "metadata": {},
   "source": [
    "# Before Log Transforming Price"
   ]
  },
  {
   "cell_type": "code",
   "execution_count": null,
   "metadata": {},
   "outputs": [],
   "source": [
    "s.heatmap(final_data.corr(), cbar=True, annot=True)"
   ]
  },
  {
   "cell_type": "markdown",
   "metadata": {},
   "source": [
    "# After Log Transforming Price"
   ]
  },
  {
   "cell_type": "code",
   "execution_count": null,
   "metadata": {},
   "outputs": [],
   "source": [
    "final_data['price_log_transform'] = np.log(final_data['Price'])\n",
    "s.heatmap(final_data.corr(), cbar=True, annot=True)"
   ]
  },
  {
   "cell_type": "code",
   "execution_count": null,
   "metadata": {},
   "outputs": [],
   "source": []
  },
  {
   "cell_type": "code",
   "execution_count": null,
   "metadata": {},
   "outputs": [],
   "source": [
    "import pandas as p\n",
    "import numpy as np\n",
    "import matplotlib.pyplot as plt\n",
    "import seaborn as s\n",
    "import pickle\n",
    "\n",
    "import warnings\n",
    "warnings.filterwarnings('ignore')\n",
    "\n",
    "import datetime as dt\n",
    "\n",
    "from sklearn.ensemble import RandomForestRegressor\n",
    "from sklearn.model_selection import RandomizedSearchCV\n",
    "from sklearn.ensemble import ExtraTreesRegressor\n",
    "from sklearn.model_selection import train_test_split\n",
    "from sklearn import metrics\n",
    "from sklearn.metrics import r2_score\n",
    "from sklearn.metrics import mean_squared_log_error\n",
    "from sklearn.preprocessing import OrdinalEncoder\n",
    "from scipy.stats import shapiro\n",
    "\n",
    "plt.rcParams['figure.figsize'] = [15,8]\n",
    "def ReadTrainData(filename, raw=False) -> p.DataFrame:\n",
    "    #Reading the data\n",
    "    df = p.read_csv(filepath_or_buffer=filename)\n",
    "    df.drop('ID', axis=1, inplace=True)\n",
    "\n",
    "    ##MILEAGE\n",
    "    df.Mileage = p.to_numeric(df.Mileage.apply(lambda x: float(str(x).split(' ')[0])))\n",
    "\n",
    "    ##LEVY\n",
    "    #Replacing hyphens with 0s\n",
    "    def replaceHyphen(n):\n",
    "        if n == '-':\n",
    "            return 0.0\n",
    "        return float(n)\n",
    "    df.Levy = p.to_numeric(df.Levy.apply(lambda x: replaceHyphen(x)))\n",
    "    \n",
    "    #ENGINE VOLUME\n",
    "    #Getting raw number\n",
    "    def convToVol(n):\n",
    "        n = str(n).strip()\n",
    "        tokens = n.split()\n",
    "        return float(tokens[0])\n",
    "    #Splitting Turbo and non turbo engine types\n",
    "    def TurboClass(n):\n",
    "        n = str(n).strip()\n",
    "        tokens = n.split()\n",
    "        if len(tokens) == 1:\n",
    "            return 0\n",
    "        else:\n",
    "            return 1\n",
    "    df['Turbo'] = df['Engine volume'].apply(lambda x: TurboClass(x))\n",
    "    df['Engine volume'] = df['Engine volume'].apply(lambda x: convToVol(x))\n",
    "\n",
    "\n",
    "    #OUTLIERS - Pattern breakers/ Exceptions\n",
    "    def FindOutliersLim(column_name, df):\n",
    "        q1 = np.percentile(df[column_name], 25) #1st quartile - 25%\n",
    "        q3 = np.percentile(df[column_name], 75) #3rd quartile - 75%\n",
    "        IQR = q3 - q1 #Inter Quartile Range\n",
    "        liniency_factor = 1.3\n",
    "        lim = IQR * liniency_factor\n",
    "        lower_lim, upper_lim = q1 - lim, q3 + lim\n",
    "        return lower_lim, upper_lim\n",
    "\n",
    "    def RemoveOutlier(df, column_name, upper_lim, lower_lim):\n",
    "        outlier_list = [x for x in df[column_name] if x < upper_lim] #List of Outliers that exist\n",
    "        outlier_elimmed = [x for x in df[column_name] if x >= lower_lim and x <= upper_lim]\n",
    "        final_col = np.where(df[column_name]>upper_lim,upper_lim,np.where(df[column_name]<lower_lim,lower_lim,df[column_name]))\n",
    "        return final_col\n",
    "\n",
    "    outliers = ['Levy', 'Engine volume', 'Mileage']\n",
    "    for i in outliers:\n",
    "        lower_lim, upper_lim = FindOutliersLim(column_name=i, df=df)\n",
    "        df[i] = RemoveOutlier(df, i, upper_lim=upper_lim, lower_lim=lower_lim)\n",
    "\n",
    "\n",
    "    #Creating Intervals aka BIN variables \n",
    "    #Alternative to scaling down data\n",
    "    mileage_intervals = [i for i in range(0,10)]\n",
    "    df['Mileage_BIN'] = p.cut(df['Mileage'], len(mileage_intervals), labels=mileage_intervals)\n",
    "    df['Mileage_BIN'] = df['Mileage_BIN'].astype(float)\n",
    "    engineVol_intervals = [i for i in range(0,5)]\n",
    "    df['EngineVolume_BIN'] = p.cut(df['Engine volume'], len(engineVol_intervals), labels=engineVol_intervals)\n",
    "    df['EngineVolume_BIN'] = df['EngineVolume_BIN'].astype(float)\n",
    "\n",
    "\n",
    "    #Ordinal Encoding Categorical Variables\n",
    "    numeric_data = df.select_dtypes(include=np.number)\n",
    "    categ_data = df.select_dtypes(include='object')\n",
    "    encode = OrdinalEncoder()\n",
    "    categ_col = categ_data.columns.tolist()\n",
    "    encode.fit(categ_data[categ_col])\n",
    "\n",
    "    categ_ordinal_encoded = encode.transform(categ_data[categ_col])\n",
    "    categ_ordinal_encoded = p.DataFrame(categ_ordinal_encoded, columns=categ_col)\n",
    "    categ_data.reset_index(inplace=True)\n",
    "    categ_ordinal_encoded.head()\n",
    "\n",
    "    numeric_data.reset_index(inplace=True)\n",
    "    categ_ordinal_encoded.reset_index(inplace=True)\n",
    "    categ_ordinal_encoded.drop('index', axis=1, inplace=True)\n",
    "    final_data = p.concat([numeric_data, categ_ordinal_encoded], axis=1)\n",
    "\n",
    "    #Log Transforming Price to increase relation with other columns \n",
    "    #Makes it easier to find a pattern\n",
    "    final_data['price_log_transform'] = np.log(final_data['Price'])\n",
    "\n",
    "    \n",
    "    return final_data\n"
   ]
  }
 ],
 "metadata": {
  "kernelspec": {
   "display_name": "Python 3.10.1 64-bit",
   "language": "python",
   "name": "python3"
  },
  "language_info": {
   "codemirror_mode": {
    "name": "ipython",
    "version": 3
   },
   "file_extension": ".py",
   "mimetype": "text/x-python",
   "name": "python",
   "nbconvert_exporter": "python",
   "pygments_lexer": "ipython3",
   "version": "3.10.1"
  },
  "orig_nbformat": 4,
  "vscode": {
   "interpreter": {
    "hash": "26de051ba29f2982a8de78e945f0abaf191376122a1563185a90213a26c5da77"
   }
  }
 },
 "nbformat": 4,
 "nbformat_minor": 2
}
