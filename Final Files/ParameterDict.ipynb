{
 "cells": [
  {
   "cell_type": "code",
   "execution_count": 6,
   "metadata": {},
   "outputs": [],
   "source": [
    "param_dict = {\n",
    "    \"levy\":1399, #f2\n",
    "    \"prod_year\":2010, #f1\n",
    "    \"leather\":0, #f1\n",
    "    \"engine_vol\":3.41, #f2\n",
    "    \"mileage\":186005, #f2\n",
    "    \"cylinders\":6, #f2\n",
    "    \"airbags\":12, #f2\n",
    "    \"turbo\":0, #f1\n",
    "    #\"mileage_BIN\":None,\n",
    "    \"left\":1, #f1\n",
    "    \"right\":0,\n",
    "\n",
    "    #String Parameters (to be encoded)\n",
    "    \"manufacturer\":'lexus',\n",
    "    \"model\":'rx 450',\n",
    "    \"category\":'jeep',\n",
    "    \"fuel_type\":'hybrid',\n",
    "    \"gear_box_type\":'automatic',\n",
    "    \"drive_wheels\":'4x4',\n",
    "    \"color\":'silver',\n",
    "}"
   ]
  },
  {
   "cell_type": "code",
   "execution_count": 5,
   "metadata": {},
   "outputs": [],
   "source": [
    "def CheckAssignParams(var, i, mode):\n",
    "        eng_vol = '1.1'\n",
    "        levy = '1'\n",
    "        airbags = '123'\n",
    "        mileage = '100000'\n",
    "        c_enginevol, c_levy, c_airbags, c_mileage = 0,0,0,0\n",
    "        # c_cylinders = int(combo.get())\n",
    "\n",
    "        # Nested func to check whether int, float or invalid\n",
    "        def CheckNumeric(val, choice = 'int'):\n",
    "            try:\n",
    "                float(val)\n",
    "            except ValueError:\n",
    "                return False\n",
    "            if choice == 'number':\n",
    "                return True\n",
    "            elif '.' not in val and choice == 'int':\n",
    "                return True\n",
    "            else:\n",
    "                return False\n",
    "\n",
    "        if CheckNumeric(eng_vol, 'number'):\n",
    "            if float(eng_vol) > 0:\n",
    "                c_enginevol = float(eng_vol)\n",
    "                print('engine volume valid')\n",
    "        else:\n",
    "            # msg_l.widg.config(text='Enter a valid number (Engine Volume)!')\n",
    "            print('invalid engine volume', eng_vol)\n",
    "            return\n",
    "        if CheckNumeric(levy, 'number'):\n",
    "            if float(levy) >= 0:\n",
    "                c_levy = float(levy) * 0.013 #Converting to dollars\n",
    "        else:\n",
    "            # msg_l.widg.config(text='Enter a valid number (Levy)!')\n",
    "            print('invalid levy', levy)\n",
    "            return\n",
    "        if CheckNumeric(airbags, 'int'):\n",
    "            if int(airbags) >= 0:\n",
    "                c_airbags = int(airbags)\n",
    "        else:\n",
    "            # msg_l.widg.config(text='Enter an integer (airbags)!')\n",
    "            print('invalid airbags', airbags)\n",
    "            return\n",
    "        if CheckNumeric(mileage, 'number'):\n",
    "            if float(mileage) > 0:\n",
    "                c_mileage = float(mileage) * 0.621371 #Kms to miles\n",
    "        else:\n",
    "            # msg_l.widg.config(text='Enter a valid number (mileage)!')\n",
    "            print('invalid mileage', mileage)\n",
    "            return\n",
    "        # msg_l.widg.config(text='Valid ')\n",
    "        print('valid')\n",
    "        print(f'{c_enginevol =}')\n",
    "        print(f'{c_airbags =}')\n",
    "        print(f'{c_levy =}')\n",
    "        print(f'{c_mileage =}')\n",
    "        return "
   ]
  },
  {
   "cell_type": "code",
   "execution_count": 6,
   "metadata": {},
   "outputs": [
    {
     "name": "stdout",
     "output_type": "stream",
     "text": [
      "valid\n",
      "c_enginevol =0\n",
      "c_airbags =0\n",
      "c_levy =0.013\n",
      "c_mileage =62137.1\n"
     ]
    }
   ],
   "source": [
    "CheckAssignParams(None, None, None)"
   ]
  },
  {
   "cell_type": "code",
   "execution_count": null,
   "metadata": {},
   "outputs": [],
   "source": []
  }
 ],
 "metadata": {
  "kernelspec": {
   "display_name": "Python 3.10.1 64-bit",
   "language": "python",
   "name": "python3"
  },
  "language_info": {
   "codemirror_mode": {
    "name": "ipython",
    "version": 3
   },
   "file_extension": ".py",
   "mimetype": "text/x-python",
   "name": "python",
   "nbconvert_exporter": "python",
   "pygments_lexer": "ipython3",
   "version": "3.10.1"
  },
  "orig_nbformat": 4,
  "vscode": {
   "interpreter": {
    "hash": "26de051ba29f2982a8de78e945f0abaf191376122a1563185a90213a26c5da77"
   }
  }
 },
 "nbformat": 4,
 "nbformat_minor": 2
}
