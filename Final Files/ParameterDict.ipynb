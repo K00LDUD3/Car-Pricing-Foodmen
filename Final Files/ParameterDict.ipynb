{
 "cells": [
  {
   "cell_type": "code",
   "execution_count": 2,
   "metadata": {},
   "outputs": [],
   "source": [
    "param_dict = {\n",
    "    \"levy\":1399,\n",
    "    \"prod_year\":2010,\n",
    "    \"leather\":0,\n",
    "    \"engine_vol\":3.41,\n",
    "    \"mileage\":186005,\n",
    "    \"cylinders\":6,\n",
    "    \"airbags\":12,\n",
    "    \"turbo\":0,\n",
    "    #\"mileage_BIN\":None,\n",
    "    \"left\":1,\n",
    "    \"right\":0,\n",
    "\n",
    "    #String Parameters (to be encoded)\n",
    "    \"manufacturer\":'lexus',\n",
    "    \"model\":'rx 450',\n",
    "    \"category\":'jeep',\n",
    "    \"fuel_type\":'hybrid',\n",
    "    \"gear_box_type\":'automatic',\n",
    "    \"drive_wheels\":'4x4',\n",
    "    \"color\":'silver',\n",
    "}"
   ]
  },
  {
   "cell_type": "code",
   "execution_count": 1,
   "metadata": {},
   "outputs": [],
   "source": [
    "import AlgoData as alg\n",
    "manufacturer_list = alg.ManufactUniqueModels(choice='m')\n",
    "manufacturer_list = [(str(i)+'. '+manufacturer_list[i]) for i in range(len(manufacturer_list))]"
   ]
  },
  {
   "cell_type": "code",
   "execution_count": null,
   "metadata": {},
   "outputs": [],
   "source": []
  }
 ],
 "metadata": {
  "kernelspec": {
   "display_name": "Python 3.10.1 64-bit",
   "language": "python",
   "name": "python3"
  },
  "language_info": {
   "codemirror_mode": {
    "name": "ipython",
    "version": 3
   },
   "file_extension": ".py",
   "mimetype": "text/x-python",
   "name": "python",
   "nbconvert_exporter": "python",
   "pygments_lexer": "ipython3",
   "version": "3.10.1"
  },
  "orig_nbformat": 4,
  "vscode": {
   "interpreter": {
    "hash": "26de051ba29f2982a8de78e945f0abaf191376122a1563185a90213a26c5da77"
   }
  }
 },
 "nbformat": 4,
 "nbformat_minor": 2
}
