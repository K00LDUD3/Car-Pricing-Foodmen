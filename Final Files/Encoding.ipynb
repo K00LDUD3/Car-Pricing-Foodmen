{
 "cells": [
  {
   "cell_type": "code",
   "execution_count": 7,
   "metadata": {},
   "outputs": [],
   "source": [
    "import pandas as pd\n",
    "import pickle \n",
    "import AlgoData as alg\n",
    "from sklearn.preprocessing import OrdinalEncoder\n",
    "import numpy as np\n",
    "import joblib"
   ]
  },
  {
   "cell_type": "code",
   "execution_count": 8,
   "metadata": {},
   "outputs": [],
   "source": [
    "param_dict = {\n",
    "    \"levy\":1399,\n",
    "    \"prod_year\":2010,\n",
    "    \"leather\":0,\n",
    "    \"engine_vol\":3.41,\n",
    "    \"mileage\":186005,\n",
    "    \"cylinders\":6,\n",
    "    \"airbags\":12,\n",
    "    \"turbo\":0,\n",
    "    #\"mileage_BIN\":None,\n",
    "    \"left\":1,\n",
    "    \"right\":0,\n",
    "\n",
    "    #String Parameters (to be encoded)\n",
    "    \"manufacturer\":'lexus',\n",
    "    \"model\":'rx 450',\n",
    "    \"category\":'jeep',\n",
    "    \"fuel_type\":'hybrid',\n",
    "    \"gear_box_type\":'automatic',\n",
    "    \"drive_wheels\":'4x4',\n",
    "    \"color\":'silver',\n",
    "}\n",
    "data = alg.ArrangeInput(params=param_dict)"
   ]
  },
  {
   "cell_type": "code",
   "execution_count": 9,
   "metadata": {},
   "outputs": [],
   "source": [
    "model = joblib.load(\"C:\\\\Users\\\\91748\\\\Desktop\\\\RF_final_1_0_1.obj\")"
   ]
  },
  {
   "cell_type": "code",
   "execution_count": 14,
   "metadata": {},
   "outputs": [
    {
     "name": "stdout",
     "output_type": "stream",
     "text": [
      "Predicted value:  15558.864658048898\n",
      "Actual value:  13327.999999911714\n"
     ]
    }
   ],
   "source": [
    "y_pred=  np.exp(model.predict(data)[0])\n",
    "print('Predicted value: ', y_pred)\n",
    "print('Actual value: ', np.exp(9.4976223644))"
   ]
  },
  {
   "cell_type": "code",
   "execution_count": 6,
   "metadata": {},
   "outputs": [],
   "source": [
    "df = pd.read_csv('TrainData_Processed.csv', index_col=[0])"
   ]
  },
  {
   "cell_type": "code",
   "execution_count": 4,
   "metadata": {},
   "outputs": [
    {
     "data": {
      "text/plain": [
       "<bound method IndexOpsMixin.tolist of Index(['Levy', 'Prod. year', 'Leather interior', 'Engine volume', 'Mileage',\n",
       "       'Cylinders', 'Airbags', 'Turbo', 'Mileage_BIN', 'left wheel',\n",
       "       'right wheel', 'Manufacturer', 'Model', 'Category', 'Fuel type',\n",
       "       'Gear box type', 'Drive wheels', 'Color'],\n",
       "      dtype='object')>"
      ]
     },
     "execution_count": 4,
     "metadata": {},
     "output_type": "execute_result"
    }
   ],
   "source": [
    "df.columns.to_list"
   ]
  }
 ],
 "metadata": {
  "kernelspec": {
   "display_name": "Python 3.10.1 64-bit",
   "language": "python",
   "name": "python3"
  },
  "language_info": {
   "codemirror_mode": {
    "name": "ipython",
    "version": 3
   },
   "file_extension": ".py",
   "mimetype": "text/x-python",
   "name": "python",
   "nbconvert_exporter": "python",
   "pygments_lexer": "ipython3",
   "version": "3.10.1"
  },
  "orig_nbformat": 4,
  "vscode": {
   "interpreter": {
    "hash": "26de051ba29f2982a8de78e945f0abaf191376122a1563185a90213a26c5da77"
   }
  }
 },
 "nbformat": 4,
 "nbformat_minor": 2
}
