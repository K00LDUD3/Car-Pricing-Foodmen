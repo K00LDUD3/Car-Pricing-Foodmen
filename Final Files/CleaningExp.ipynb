{
 "cells": [
  {
   "cell_type": "code",
   "execution_count": 125,
   "metadata": {},
   "outputs": [],
   "source": [
    "import pandas as pd\n",
    "import pickle "
   ]
  },
  {
   "cell_type": "code",
   "execution_count": 123,
   "metadata": {},
   "outputs": [],
   "source": [
    "df = pd.read_csv('TrainData_Processed.csv', index_col=[0])"
   ]
  },
  {
   "cell_type": "code",
   "execution_count": 124,
   "metadata": {},
   "outputs": [
    {
     "data": {
      "text/plain": [
       "Index(['Price', 'Levy', 'Prod. year', 'Leather interior', 'Engine volume',\n",
       "       'Mileage', 'Cylinders', 'Airbags', 'Turbo', 'Mileage_BIN', 'left wheel',\n",
       "       'right wheel', 'Manufacturer', 'Model', 'Category', 'Fuel type',\n",
       "       'Gear box type', 'Drive wheels', 'Color'],\n",
       "      dtype='object')"
      ]
     },
     "execution_count": 124,
     "metadata": {},
     "output_type": "execute_result"
    }
   ],
   "source": [
    "df.columns"
   ]
  },
  {
   "cell_type": "code",
   "execution_count": null,
   "metadata": {},
   "outputs": [],
   "source": [
    "def ArrangeInput(param_dict):\n",
    "    \n",
    "\n",
    "    return\n",
    "param_dict = {\n",
    "    \"levy\":None,\n",
    "    \"prod_year\":None,\n",
    "    \"leather\":None,\n",
    "    \"engine_vol\":None,\n",
    "    \"mileage\":None,\n",
    "    \"cylinders\":None,\n",
    "    \"airbags\":None,\n",
    "    \"turbo\":None,\n",
    "    \"mileage_BIN\":None,\n",
    "    \"left\":None,\n",
    "    \"right\":None,\n",
    "    \"manufacturer\":None,\n",
    "    \"model\":None,\n",
    "    \"category\":None,\n",
    "    \"fuel_type\":None,\n",
    "    \"gear_box_type\":None,\n",
    "    \"drive_wheels\":None,\n",
    "    \"color\":None,\n",
    "}"
   ]
  }
 ],
 "metadata": {
  "kernelspec": {
   "display_name": "Python 3.10.1 64-bit",
   "language": "python",
   "name": "python3"
  },
  "language_info": {
   "codemirror_mode": {
    "name": "ipython",
    "version": 3
   },
   "file_extension": ".py",
   "mimetype": "text/x-python",
   "name": "python",
   "nbconvert_exporter": "python",
   "pygments_lexer": "ipython3",
   "version": "3.10.1"
  },
  "orig_nbformat": 4,
  "vscode": {
   "interpreter": {
    "hash": "26de051ba29f2982a8de78e945f0abaf191376122a1563185a90213a26c5da77"
   }
  }
 },
 "nbformat": 4,
 "nbformat_minor": 2
}
